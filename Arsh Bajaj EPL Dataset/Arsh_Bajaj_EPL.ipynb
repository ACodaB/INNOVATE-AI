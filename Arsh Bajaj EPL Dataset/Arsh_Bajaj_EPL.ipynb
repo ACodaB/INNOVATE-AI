{
 "cells": [
  {
   "cell_type": "code",
   "execution_count": 9,
   "id": "1b36fef3-d9b7-4084-908d-21c4652fe4fe",
   "metadata": {},
   "outputs": [],
   "source": [
    "import pandas as pd\n",
    "import numpy as np\n",
    "import matplotlib.pyplot as plt\n",
    "import seaborn as sns\n",
    "from sklearn.impute import SimpleImputer, KNNImputer\n",
    "from sklearn.model_selection import train_test_split, cross_val_score\n",
    "from sklearn.compose import ColumnTransformer\n",
    "from sklearn.preprocessing import OneHotEncoder, StandardScaler\n",
    "from sklearn.pipeline import Pipeline\n",
    "from sklearn.linear_model import LinearRegression\n",
    "from sklearn.tree import DecisionTreeRegressor\n",
    "from sklearn.ensemble import RandomForestRegressor\n",
    "from xgboost import XGBRegressor\n",
    "from sklearn.metrics import r2_score, mean_absolute_error, mean_squared_error\n",
    "import pickle\n",
    "import warnings\n",
    "warnings.filterwarnings('ignore')"
   ]
  },
  {
   "cell_type": "code",
   "execution_count": 2,
   "id": "7464804f-6b71-44a7-8f3a-7a05c60f1c8a",
   "metadata": {},
   "outputs": [],
   "source": [
    "df=pd.read_csv(\"results.csv\",encoding='latin-1')\n",
    "df2=df.copy()"
   ]
  },
  {
   "cell_type": "code",
   "execution_count": 135,
   "id": "ab5c8940-c16e-4e23-b429-f9477e82a044",
   "metadata": {},
   "outputs": [
    {
     "data": {
      "text/plain": [
       "'\\nFTHG full time home team goal\\nFTAG full time away team goal\\nFTR full time results(H home win A away win D draw)\\nHTHG\\nHTAG\\nHTR\\nHS home team shots\\nAS away team shots\\nHST home team shots on target\\nAST away team shots on target\\nHC home team corners\\nAC away team corners\\nHF home team fouls\\nAF away team fouls\\nHY home team yellow card\\nAY\\nHR home team red card\\nAR\\n'"
      ]
     },
     "execution_count": 135,
     "metadata": {},
     "output_type": "execute_result"
    }
   ],
   "source": [
    "'''\n",
    "FTHG full time home team goal\n",
    "FTAG full time away team goal\n",
    "FTR full time results(H home win A away win D draw)\n",
    "HTHG\n",
    "HTAG\n",
    "HTR\n",
    "HS home team shots\n",
    "AS away team shots\n",
    "HST home team shots on target\n",
    "AST away team shots on target\n",
    "HC home team corners\n",
    "AC away team corners\n",
    "HF home team fouls\n",
    "AF away team fouls\n",
    "HY home team yellow card\n",
    "AY\n",
    "HR home team red card\n",
    "AR\n",
    "'''"
   ]
  },
  {
   "cell_type": "code",
   "execution_count": 136,
   "id": "ed0b89aa-cc68-4043-b04d-0443aa9f3644",
   "metadata": {},
   "outputs": [
    {
     "data": {
      "text/plain": [
       "(11113, 23)"
      ]
     },
     "execution_count": 136,
     "metadata": {},
     "output_type": "execute_result"
    }
   ],
   "source": [
    "df.shape"
   ]
  },
  {
   "cell_type": "code",
   "execution_count": 3,
   "id": "f56990c9-a282-4605-a92b-48168e2606b2",
   "metadata": {},
   "outputs": [],
   "source": [
    "df['DateTime'] = df['DateTime'].apply(lambda x: x.split('T')[0])\n",
    "df['DateTime'] = pd.to_datetime(df['DateTime'])\n",
    "df['Year'] = df['DateTime'].dt.year\n",
    "df['Month'] = df['DateTime'].dt.month\n",
    "df['Day'] = df['DateTime'].dt.day\n",
    "df = df.drop(columns=['Season', 'DateTime'])"
   ]
  },
  {
   "cell_type": "code",
   "execution_count": 138,
   "id": "8491361b-63b9-43d5-8049-4ab7cb26a75d",
   "metadata": {
    "scrolled": true
   },
   "outputs": [
    {
     "data": {
      "text/html": [
       "\n",
       "            <div>\n",
       "                <ins><a href=\"https://ydata.ai/register\">Upgrade to ydata-sdk</a></ins>\n",
       "                <p>\n",
       "                    Improve your data and profiling with ydata-sdk, featuring data quality scoring, redundancy detection, outlier identification, text validation, and synthetic data generation.\n",
       "                </p>\n",
       "            </div>\n",
       "            "
      ],
      "text/plain": [
       "<IPython.core.display.HTML object>"
      ]
     },
     "metadata": {},
     "output_type": "display_data"
    },
    {
     "data": {
      "application/vnd.jupyter.widget-view+json": {
       "model_id": "fd3e4fe8dd7d4f0eaae916867a20a5cf",
       "version_major": 2,
       "version_minor": 0
      },
      "text/plain": [
       "Summarize dataset:   0%|          | 0/5 [00:00<?, ?it/s]"
      ]
     },
     "metadata": {},
     "output_type": "display_data"
    },
    {
     "name": "stderr",
     "output_type": "stream",
     "text": [
      "\n",
      "  0%|                                                                                           | 0/24 [00:00<?, ?it/s]\u001b[A\n",
      "  4%|███▍                                                                               | 1/24 [00:01<00:32,  1.40s/it]\u001b[A\n",
      " 38%|███████████████████████████████▏                                                   | 9/24 [00:01<00:02,  6.29it/s]\u001b[A\n",
      " 67%|██████████████████████████████████████████████████████▋                           | 16/24 [00:02<00:00, 11.76it/s]\u001b[A\n",
      "100%|██████████████████████████████████████████████████████████████████████████████████| 24/24 [00:03<00:00,  7.44it/s]\u001b[A\n",
      "C:\\Users\\hp\\AppData\\Roaming\\Python\\Python312\\site-packages\\ydata_profiling\\model\\pandas\\discretize_pandas.py:52: FutureWarning: Setting an item of incompatible dtype is deprecated and will raise in a future error of pandas. Value '[0 0 0 ... 9 9 9]' has dtype incompatible with int32, please explicitly cast to a compatible dtype first.\n",
      "  discretized_df.loc[:, column] = self._discretize_column(\n",
      "C:\\Users\\hp\\AppData\\Roaming\\Python\\Python312\\site-packages\\ydata_profiling\\model\\pandas\\discretize_pandas.py:52: FutureWarning: Setting an item of incompatible dtype is deprecated and will raise in a future error of pandas. Value '[6 6 6 ... 2 2 2]' has dtype incompatible with int32, please explicitly cast to a compatible dtype first.\n",
      "  discretized_df.loc[:, column] = self._discretize_column(\n",
      "C:\\Users\\hp\\AppData\\Roaming\\Python\\Python312\\site-packages\\ydata_profiling\\model\\pandas\\discretize_pandas.py:52: FutureWarning: Setting an item of incompatible dtype is deprecated and will raise in a future error of pandas. Value '[4 4 4 ... 2 2 2]' has dtype incompatible with int32, please explicitly cast to a compatible dtype first.\n",
      "  discretized_df.loc[:, column] = self._discretize_column(\n"
     ]
    },
    {
     "data": {
      "application/vnd.jupyter.widget-view+json": {
       "model_id": "8c29d4bc12f041009c3e356683fc7a2d",
       "version_major": 2,
       "version_minor": 0
      },
      "text/plain": [
       "Generate report structure:   0%|          | 0/1 [00:00<?, ?it/s]"
      ]
     },
     "metadata": {},
     "output_type": "display_data"
    },
    {
     "data": {
      "application/vnd.jupyter.widget-view+json": {
       "model_id": "e602f8be3e784898be1e7cae8d6b089d",
       "version_major": 2,
       "version_minor": 0
      },
      "text/plain": [
       "Render HTML:   0%|          | 0/1 [00:00<?, ?it/s]"
      ]
     },
     "metadata": {},
     "output_type": "display_data"
    },
    {
     "data": {
      "application/vnd.jupyter.widget-view+json": {
       "model_id": "5d33dbd37bbf4a14805fe56c16041463",
       "version_major": 2,
       "version_minor": 0
      },
      "text/plain": [
       "Export report to file:   0%|          | 0/1 [00:00<?, ?it/s]"
      ]
     },
     "metadata": {},
     "output_type": "display_data"
    }
   ],
   "source": [
    "from ydata_profiling import ProfileReport\n",
    "pf=ProfileReport(df)\n",
    "pf.to_file(\"Profile Report.html\")\n"
   ]
  },
  {
   "cell_type": "code",
   "execution_count": 139,
   "id": "699d0acc-c8b8-48c4-bc12-56453b60c0ba",
   "metadata": {
    "scrolled": true
   },
   "outputs": [
    {
     "data": {
      "text/plain": [
       "Index(['HomeTeam', 'AwayTeam', 'FTHG', 'FTAG', 'FTR', 'HTHG', 'HTAG', 'HTR',\n",
       "       'Referee', 'HS', 'AS', 'HST', 'AST', 'HC', 'AC', 'HF', 'AF', 'HY', 'AY',\n",
       "       'HR', 'AR', 'Year', 'Month', 'Day'],\n",
       "      dtype='object')"
      ]
     },
     "execution_count": 139,
     "metadata": {},
     "output_type": "execute_result"
    }
   ],
   "source": [
    "df.columns"
   ]
  },
  {
   "cell_type": "code",
   "execution_count": 4,
   "id": "0ee73e07-ee72-4ca1-8430-d5de00d325aa",
   "metadata": {},
   "outputs": [],
   "source": [
    "def pts(pt): \n",
    "    if pt=='H':\n",
    "        return 3\n",
    "    elif pt=='D':\n",
    "        return 2\n",
    "    elif pt=='A': \n",
    "        return 1\n",
    "    else:\n",
    "        return 0\n",
    "\n",
    "df['HTR']=df['HTR'].apply(pts)\n",
    "df['FTR']=df['FTR'].apply(pts)\n",
    "\n",
    "        "
   ]
  },
  {
   "cell_type": "code",
   "execution_count": 5,
   "id": "1c8555e6-0d2e-4214-8093-6fb980dd0a8b",
   "metadata": {},
   "outputs": [],
   "source": [
    "df[['AR', 'HR']] = SimpleImputer(strategy='most_frequent').fit_transform(pd.DataFrame(df[['AR', 'HR']]))\n",
    "df[['HTHG', 'HTAG']] = KNNImputer(n_neighbors=1, weights='distance').fit_transform(pd.DataFrame(df[['HTHG', 'HTAG']]))\n",
    "df['HTR'] = KNNImputer(n_neighbors=1, weights='distance').fit_transform(pd.DataFrame(df['HTR']))\n",
    "df[['HS', 'AS', 'HST', 'AST', 'HY', 'AY', 'HF', 'AF', 'HC', 'AC']] = SimpleImputer(strategy='mean').fit_transform(\n",
    "    pd.DataFrame(df[['HS', 'AS', 'HST', 'AST', 'HY', 'AY', 'HF', 'AF', 'HC', 'AC']]))"
   ]
  },
  {
   "cell_type": "code",
   "execution_count": 6,
   "id": "8320cff8-a4c8-4468-90ef-d77ec1c07480",
   "metadata": {},
   "outputs": [],
   "source": [
    "x = df[['HomeTeam', 'AwayTeam', 'HS', 'AS', 'HST', 'AST', 'HC', 'AC', 'HF', 'AF', 'HY', 'AY', 'HR', 'AR']]\n",
    "y = df['FTR']"
   ]
  },
  {
   "cell_type": "code",
   "execution_count": 7,
   "id": "f5203e60-ccf0-4f0b-ac3d-cfe005060ba0",
   "metadata": {},
   "outputs": [],
   "source": [
    "xtrain,xtest,ytrain,ytest=train_test_split(x,y,test_size=0.2,random_state=13)"
   ]
  },
  {
   "cell_type": "code",
   "execution_count": 8,
   "id": "6b09fbbf-7313-41c3-8e57-861e99d92b60",
   "metadata": {},
   "outputs": [],
   "source": [
    "categorical_features = ['HomeTeam', 'AwayTeam']\n",
    "numerical_features = ['HS', 'AS', 'HST', 'AST', 'HC', 'AC', 'HF', 'AF', 'HY', 'AY', 'HR', 'AR']\n",
    "preprocessor = ColumnTransformer(\n",
    "    transformers=[\n",
    "        ('cat', OneHotEncoder(handle_unknown='ignore'), categorical_features),\n",
    "        ('num', StandardScaler(), numerical_features)\n",
    "    ])"
   ]
  },
  {
   "cell_type": "code",
   "execution_count": 19,
   "id": "20047475-fc6b-42c4-be04-7a133399b50e",
   "metadata": {},
   "outputs": [],
   "source": [
    "def evaluate_model(model, xtrain, ytrain, xtest, ytest):\n",
    "    # Create pipeline\n",
    "    pipeline = Pipeline([\n",
    "        ('preprocessor', preprocessor),\n",
    "        ('model', model)\n",
    "    ])\n",
    "    \n",
    "    # Fit the model\n",
    "    pipeline.fit(xtrain, ytrain)\n",
    "    \n",
    "    # Make predictions\n",
    "    ypred = pipeline.predict(xtest)\n",
    "    \n",
    "    # Calculate metrics\n",
    "    r2 = r2_score(ytest, ypred)\n",
    "    mae = mean_absolute_error(ytest, ypred)\n",
    "    rmse = mean_squared_error(ytest, ypred, squared=False)\n",
    "    \n",
    "    # Cross-validation\n",
    "    cv_scores = cross_val_score(pipeline, xtrain, ytrain, \n",
    "                              cv=5, scoring='neg_mean_squared_error')\n",
    "    cv_rmse = (-cv_scores).mean()\n",
    "    \n",
    "    return {\n",
    "        'model': model.__class__.__name__,\n",
    "        'r2_score': r2,\n",
    "        'mae': mae,\n",
    "        'rmse': rmse,\n",
    "        'cv_rmse': cv_rmse,\n",
    "        'pipeline': pipeline\n",
    "    }"
   ]
  },
  {
   "cell_type": "code",
   "execution_count": 40,
   "id": "dd53d9b3-080b-4354-8313-f4e11726f2ed",
   "metadata": {},
   "outputs": [
    {
     "name": "stdout",
     "output_type": "stream",
     "text": [
      "\n",
      "--------------------------------------------------\n",
      "Model: LinearRegression\n",
      "R2 Score: 0.2093\n",
      "MAE: 0.6430\n",
      "RMSE: 0.7557\n",
      "CV RMSE: 0.5514\n",
      "\n",
      "--------------------------------------------------\n",
      "Model: DecisionTreeRegressor\n",
      "R2 Score: -0.5140\n",
      "MAE: 0.7540\n",
      "RMSE: 1.0457\n",
      "CV RMSE: 1.0312\n",
      "\n",
      "--------------------------------------------------\n",
      "Model: XGBRegressor\n",
      "R2 Score: 0.1552\n",
      "MAE: 0.6516\n",
      "RMSE: 0.7812\n",
      "CV RMSE: 0.5960\n",
      "\n",
      "Summary of Results:\n",
      "                   model  r2_score       mae      rmse   cv_rmse\n",
      "0       LinearRegression  0.209342  0.643045  0.755719  0.551439\n",
      "1  DecisionTreeRegressor -0.513957  0.753978  1.045737  1.031216\n",
      "2           XGBRegressor  0.155156  0.651628  0.781186  0.595981\n"
     ]
    }
   ],
   "source": [
    "models = [\n",
    "    LinearRegression(),\n",
    "    DecisionTreeRegressor(random_state=42),\n",
    "    # RandomForestRegressor(random_state=42),\n",
    "    XGBRegressor(random_state=42)\n",
    "]\n",
    "\n",
    "# Evaluate all models\n",
    "results = []\n",
    "for model in models:\n",
    "    result = evaluate_model(model, xtrain, ytrain, xtest, ytest)\n",
    "    results.append(result)\n",
    "    print(f\"\\n{'-'*50}\")\n",
    "    print(f\"Model: {result['model']}\")\n",
    "    print(f\"R2 Score: {result['r2_score']:.4f}\")\n",
    "    print(f\"MAE: {result['mae']:.4f}\")\n",
    "    print(f\"RMSE: {result['rmse']:.4f}\")\n",
    "    print(f\"CV RMSE: {result['cv_rmse']:.4f}\")\n",
    "\n",
    "# Create a results dataframe\n",
    "results_df = pd.DataFrame(results)\n",
    "print(\"\\nSummary of Results:\")\n",
    "print(results_df[['model', 'r2_score', 'mae', 'rmse', 'cv_rmse']])"
   ]
  },
  {
   "cell_type": "code",
   "execution_count": 41,
   "id": "7136ec69-333a-4aa4-b316-c34a61d5a04e",
   "metadata": {},
   "outputs": [],
   "source": [
    "new_data={'HomeTeam':'Manchester United', 'AwayTeam':'Liverpool','HS':14, 'AS':12, 'HST':5, 'AST':4, 'HC':6, 'AC':4\n",
    "          , 'HF':11, 'AF':14, 'HY':2, 'AY':3,\n",
    "       'HR':0, 'AR':0}\n",
    "new_data_df=pd.DataFrame([new_data])"
   ]
  },
  {
   "cell_type": "code",
   "execution_count": 42,
   "id": "0e2c60cf-9309-489f-8abd-a456ad017f93",
   "metadata": {},
   "outputs": [],
   "source": [
    "def make_prediction(pred): \n",
    "    try:\n",
    "        if pred>=2.5: \n",
    "            return \"Home win\",3\n",
    "        elif pred>=1.5:\n",
    "            return \"draw\",2\n",
    "        else:\n",
    "            return \"away win\",1\n",
    "    except Exception as e:\n",
    "        return \"unknown\",pred"
   ]
  },
  {
   "cell_type": "code",
   "execution_count": 53,
   "id": "1ea03670-37ae-4d39-8dcc-efd830eeb2a3",
   "metadata": {},
   "outputs": [
    {
     "name": "stdout",
     "output_type": "stream",
     "text": [
      "new match prediction:\n",
      "\n",
      "Manchester United vs Liverpool\n",
      "Error making prediction with LinearRegression: 0\n",
      "Error making prediction with DecisionTreeRegressor: 0\n",
      "Error making prediction with XGBRegressor: 0\n"
     ]
    }
   ],
   "source": [
    "print(\"new match prediction:\\n\")\n",
    "print(f\"{new_data['HomeTeam']} vs {new_data['AwayTeam']}\")\n",
    "predictions=[]\n",
    "for result in results:\n",
    "    try :\n",
    "        model_name=result['model']\n",
    "        pipeline=result['pipeline']\n",
    "        pred=pipeline.predict(new_data_df[0])\n",
    "        outcome,num_outcome=make_prediction(pred)\n",
    "        try:\n",
    "            if hasattr(pipeline.named_steps['model'],predict_proba):\n",
    "                proba=pipeline.predict_proba(new_data_df)[0]\n",
    "                if len(proba)==3:\n",
    "                    home_prob=proba[2]\n",
    "                    draw_prob=proba[1]\n",
    "                    away_prob=proba[0]\n",
    "                    \n",
    "                elif len(proba)==2:\n",
    "                    home_prob=proba[1]\n",
    "                    \n",
    "                    away_prob=proba[0]\n",
    "        except Exception as e:\n",
    "            print(\"cant get probability\")\n",
    "        \n",
    "        pred_data = {\n",
    "            'model': model_name,\n",
    "            'prediction': outcome,\n",
    "            'numeric_prediction': numeric_outcome,\n",
    "            'raw_value': float(pred),\n",
    "            'home_prob': home_prob,\n",
    "            'draw_prob': draw_prob,\n",
    "            'away_prob': away_prob\n",
    "        }\n",
    "        predictions.append(pred_data)\n",
    "        print(f\"{model_name}:\")\n",
    "        print(f\"- Predicted outcome: {outcome} ({numeric_outcome})\")\n",
    "        print(f\"- Raw prediction value: {pred:.2f}\")\n",
    "        \n",
    "        if home_prob is not None:\n",
    "            print(\"- Probability estimates:\")\n",
    "            if home_prob is not None:\n",
    "                print(f\"  Home Win: {home_prob*100:.1f}%\")\n",
    "            if draw_prob is not None:\n",
    "                print(f\"  Draw: {draw_prob*100:.1f}%\")\n",
    "            if away_prob is not None:\n",
    "                print(f\"  Away Win: {away_prob*100:.1f}%\")\n",
    "                \n",
    "    except Exception as e:\n",
    "        print(f\"Error making prediction with {result['model']}: {str(e)}\")\n",
    "        continue\n",
    "\n",
    "\n",
    "\n",
    "    \n",
    "            "
   ]
  },
  {
   "cell_type": "code",
   "execution_count": 54,
   "id": "b769b0d1-4b05-463e-a552-30fe48387123",
   "metadata": {},
   "outputs": [
    {
     "name": "stdout",
     "output_type": "stream",
     "text": [
      "\n",
      "DETAILED PREDICTION FROM BEST MODEL: LinearRegression\n",
      "Final Prediction: draw (1.82)\n",
      "Error getting best model prediction: 'model'\n",
      "\n",
      "Predictions saved to match_predictions.csv\n",
      "Error saving predictions: \"None of [Index(['model', 'prediction', 'numeric_prediction', 'raw_value'], dtype='object')] are in the [columns]\"\n"
     ]
    }
   ],
   "source": [
    "# 4. Save predictions to DataFrame\n",
    "predictions_df = pd.DataFrame(predictions)\n",
    "\n",
    "# 5. Get best model prediction\n",
    "try:\n",
    "    best_model_idx = results_df['rmse'].idxmin()\n",
    "    best_model = results[best_model_idx]\n",
    "    best_pred = best_model['pipeline'].predict(new_data_df)[0]\n",
    "    best_outcome, _ = make_prediction(best_pred)\n",
    "    \n",
    "    print(\"\\nDETAILED PREDICTION FROM BEST MODEL:\", best_model['model'])\n",
    "    print(f\"Final Prediction: {best_outcome} ({best_pred:.2f})\")\n",
    "    \n",
    "    # Add best model flag to predictions\n",
    "    predictions_df['is_best'] = predictions_df['model'] == best_model['model']\n",
    "    \n",
    "except Exception as e:\n",
    "    print(f\"Error getting best model prediction: {str(e)}\")\n",
    "\n",
    "# 6. Save predictions to CSV\n",
    "try:\n",
    "    predictions_df.to_csv('match_predictions.csv', index=False)\n",
    "    print(\"\\nPredictions saved to match_predictions.csv\")\n",
    "    print(predictions_df[['model', 'prediction', 'numeric_prediction', 'raw_value']])\n",
    "except Exception as e:\n",
    "    print(f\"Error saving predictions: {str(e)}\")"
   ]
  },
  {
   "cell_type": "code",
   "execution_count": null,
   "id": "f5c586a5-48c8-4883-a41d-911308d2c5a0",
   "metadata": {},
   "outputs": [],
   "source": []
  },
  {
   "cell_type": "code",
   "execution_count": null,
   "id": "0f313915-805e-4495-9d8b-20bb68bfa393",
   "metadata": {},
   "outputs": [],
   "source": []
  }
 ],
 "metadata": {
  "kernelspec": {
   "display_name": "Python 3 (ipykernel)",
   "language": "python",
   "name": "python3"
  },
  "language_info": {
   "codemirror_mode": {
    "name": "ipython",
    "version": 3
   },
   "file_extension": ".py",
   "mimetype": "text/x-python",
   "name": "python",
   "nbconvert_exporter": "python",
   "pygments_lexer": "ipython3",
   "version": "3.12.7"
  }
 },
 "nbformat": 4,
 "nbformat_minor": 5
}
